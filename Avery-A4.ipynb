{
 "cells": [
  {
   "cell_type": "markdown",
   "metadata": {},
   "source": [
    "# A4 Classification of Hand-Drawn Digits\n",
    "\n",
    "In this assignment, you will define a new class named `NeuralNetworkClassifier` that extends the `NeuralNetwork` class provided here and is the solution to Assignment A2.  You will use `NeuralNetworkClassifier` to train a classifier of hand-drawn digits.\n",
    "\n",
    "You will also define the function `confusion_matrix`."
   ]
  },
  {
   "cell_type": "markdown",
   "metadata": {},
   "source": [
    "## `NeuralNetwork` class"
   ]
  },
  {
   "cell_type": "code",
   "execution_count": 2,
   "metadata": {},
   "outputs": [],
   "source": [
    "import matplotlib.pyplot as plt"
   ]
  },
  {
   "cell_type": "markdown",
   "metadata": {},
   "source": [
    "The following code cell will write its contents to `optimizers.py` so the `import optimizers` statement in the code cell after it will work correctly."
   ]
  },
  {
   "cell_type": "code",
   "execution_count": 3,
   "metadata": {},
   "outputs": [
    {
     "name": "stdout",
     "output_type": "stream",
     "text": [
      "Overwriting optimizers.py\n"
     ]
    }
   ],
   "source": [
    "%%writefile optimizers.py\n",
    "import numpy as np\n",
    "\n",
    "######################################################################\n",
    "## class Optimizers()\n",
    "######################################################################\n",
    "\n",
    "class Optimizers():\n",
    "\n",
    "    def __init__(self, all_weights):\n",
    "        '''all_weights is a vector of all of a neural networks weights concatenated into a one-dimensional vector'''\n",
    "        \n",
    "        self.all_weights = all_weights\n",
    "\n",
    "        # The following initializations are only used by adam.\n",
    "        # Only initializing m, v, beta1t and beta2t here allows multiple calls to adam to handle training\n",
    "        # with multiple subsets (batches) of training data.\n",
    "        self.mt = np.zeros_like(all_weights)\n",
    "        self.vt = np.zeros_like(all_weights)\n",
    "        self.beta1 = 0.9\n",
    "        self.beta2 = 0.999\n",
    "        self.beta1t = 1\n",
    "        self.beta2t = 1\n",
    "\n",
    "        \n",
    "    def sgd(self, error_f, gradient_f, fargs=[], n_epochs=100, learning_rate=0.001, verbose=True, error_convert_f=None):\n",
    "        '''\n",
    "error_f: function that requires X and T as arguments (given in fargs) and returns mean squared error.\n",
    "gradient_f: function that requires X and T as arguments (in fargs) and returns gradient of mean squared error\n",
    "            with respect to each weight.\n",
    "error_convert_f: function that converts the standardized error from error_f to original T units.\n",
    "        '''\n",
    "\n",
    "        error_trace = []\n",
    "        epochs_per_print = n_epochs // 10\n",
    "\n",
    "        for epoch in range(n_epochs):\n",
    "\n",
    "            error = error_f(*fargs)\n",
    "            grad = gradient_f(*fargs)\n",
    "\n",
    "            # Update all weights using -= to modify their values in-place.\n",
    "            self.all_weights -= learning_rate * grad\n",
    "\n",
    "            if error_convert_f:\n",
    "                error = error_convert_f(error)\n",
    "            error_trace.append(error)\n",
    "\n",
    "            if verbose and ((epoch + 1) % max(1, epochs_per_print) == 0):\n",
    "                print(f'sgd: Epoch {epoch+1:d} Error={error:.5f}')\n",
    "\n",
    "        return error_trace\n",
    "\n",
    "    def adam(self, error_f, gradient_f, fargs=[], n_epochs=100, learning_rate=0.001, verbose=True, error_convert_f=None):\n",
    "        '''\n",
    "error_f: function that requires X and T as arguments (given in fargs) and returns mean squared error.\n",
    "gradient_f: function that requires X and T as arguments (in fargs) and returns gradient of mean squared error\n",
    "            with respect to each weight.\n",
    "error_convert_f: function that converts the standardized error from error_f to original T units.\n",
    "        '''\n",
    "\n",
    "        alpha = learning_rate  # learning rate called alpha in original paper on adam\n",
    "        epsilon = 1e-8\n",
    "        error_trace = []\n",
    "        epochs_per_print = n_epochs // 10\n",
    "\n",
    "        for epoch in range(n_epochs):\n",
    "\n",
    "            error = error_f(*fargs)\n",
    "            grad = gradient_f(*fargs)\n",
    "\n",
    "            self.mt[:] = self.beta1 * self.mt + (1 - self.beta1) * grad\n",
    "            self.vt[:] = self.beta2 * self.vt + (1 - self.beta2) * grad * grad\n",
    "            self.beta1t *= self.beta1\n",
    "            self.beta2t *= self.beta2\n",
    "\n",
    "            m_hat = self.mt / (1 - self.beta1t)\n",
    "            v_hat = self.vt / (1 - self.beta2t)\n",
    "\n",
    "            # Update all weights using -= to modify their values in-place.\n",
    "            self.all_weights -= alpha * m_hat / (np.sqrt(v_hat) + epsilon)\n",
    "    \n",
    "            if error_convert_f:\n",
    "                error = error_convert_f(error)\n",
    "            error_trace.append(error)\n",
    "\n",
    "            if verbose and ((epoch + 1) % max(1, epochs_per_print) == 0):\n",
    "                print(f'Adam: Epoch {epoch+1:d} Error={error:.5f}')\n",
    "\n",
    "        return error_trace\n",
    "\n",
    "if __name__ == '__main__':\n",
    "\n",
    "    import matplotlib.pyplot as plt\n",
    "    plt.ion()\n",
    "\n",
    "    def parabola(wmin):\n",
    "        return ((w - wmin) ** 2)[0]\n",
    "\n",
    "    def parabola_gradient(wmin):\n",
    "        return 2 * (w - wmin)\n",
    "\n",
    "    w = np.array([0.0])\n",
    "    optimizer = Optimizers(w)\n",
    "\n",
    "    wmin = 5\n",
    "    optimizer.sgd(parabola, parabola_gradient, [wmin],\n",
    "                  n_epochs=500, learning_rate=0.1)\n",
    "\n",
    "    print(f'sgd: Minimum of parabola is at {wmin}. Value found is {w}')\n",
    "\n",
    "    w = np.array([0.0])\n",
    "    optimizer = Optimizers(w)\n",
    "    optimizer.adam(parabola, parabola_gradient, [wmin],\n",
    "                   n_epochs=500, learning_rate=0.1)\n",
    "    \n",
    "    print(f'adam: Minimum of parabola is at {wmin}. Value found is {w}')"
   ]
  },
  {
   "cell_type": "code",
   "execution_count": 4,
   "metadata": {},
   "outputs": [],
   "source": [
    "import numpy as np\n",
    "import optimizers\n",
    "import sys  # for sys.float_info.epsilon\n",
    "\n",
    "######################################################################\n",
    "## class NeuralNetwork()\n",
    "######################################################################\n",
    "\n",
    "class NeuralNetwork():\n",
    "\n",
    "\n",
    "    def __init__(self, n_inputs, n_hiddens_per_layer, n_outputs, activation_function='tanh'):\n",
    "        self.n_inputs = n_inputs\n",
    "        self.n_outputs = n_outputs\n",
    "        self.activation_function = activation_function\n",
    "\n",
    "        # Set self.n_hiddens_per_layer to [] if argument is 0, [], or [0]\n",
    "        if n_hiddens_per_layer == 0 or n_hiddens_per_layer == [] or n_hiddens_per_layer == [0]:\n",
    "            self.n_hiddens_per_layer = []\n",
    "        else:\n",
    "            self.n_hiddens_per_layer = n_hiddens_per_layer\n",
    "\n",
    "        # Initialize weights, by first building list of all weight matrix shapes.\n",
    "        n_in = n_inputs\n",
    "        shapes = []\n",
    "        for nh in self.n_hiddens_per_layer:\n",
    "            shapes.append((n_in + 1, nh))\n",
    "            n_in = nh\n",
    "        shapes.append((n_in + 1, n_outputs))\n",
    "\n",
    "        # self.all_weights:  vector of all weights\n",
    "        # self.Ws: list of weight matrices by layer\n",
    "        self.all_weights, self.Ws = self.make_weights_and_views(shapes)\n",
    "\n",
    "        # Define arrays to hold gradient values.\n",
    "        # One array for each W array with same shape.\n",
    "        self.all_gradients, self.dE_dWs = self.make_weights_and_views(shapes)\n",
    "\n",
    "        self.trained = False\n",
    "        self.total_epochs = 0\n",
    "        self.error_trace = []\n",
    "        self.Xmeans = None\n",
    "        self.Xstds = None\n",
    "        self.Tmeans = None\n",
    "        self.Tstds = None\n",
    "\n",
    "\n",
    "    def make_weights_and_views(self, shapes):\n",
    "        # vector of all weights built by horizontally stacking flatenned matrices\n",
    "        # for each layer initialized with uniformly-distributed values.\n",
    "        all_weights = np.hstack([np.random.uniform(size=shape).flat / np.sqrt(shape[0])\n",
    "                                 for shape in shapes])\n",
    "        # Build list of views by reshaping corresponding elements from vector of all weights\n",
    "        # into correct shape for each layer.\n",
    "        views = []\n",
    "        start = 0\n",
    "        for shape in shapes:\n",
    "            size =shape[0] * shape[1]\n",
    "            views.append(all_weights[start:start + size].reshape(shape))\n",
    "            start += size\n",
    "        return all_weights, views\n",
    "\n",
    "\n",
    "    # Return string that shows how the constructor was called\n",
    "    def __repr__(self):\n",
    "        return f'{type(self).__name__}({self.n_inputs}, {self.n_hiddens_per_layer}, {self.n_outputs}, \\'{self.activation_function}\\')'\n",
    "\n",
    "\n",
    "    # Return string that is more informative to the user about the state of this neural network.\n",
    "    def __str__(self):\n",
    "        result = self.__repr__()\n",
    "        if len(self.error_trace) > 0:\n",
    "            return self.__repr__() + f' trained for {len(self.error_trace)} epochs, final training error {self.error_trace[-1]:.4f}'\n",
    "\n",
    "\n",
    "    def train(self, X, T, n_epochs, learning_rate, method='sgd', verbose=True):\n",
    "        '''\n",
    "train: \n",
    "  X: n_samples x n_inputs matrix of input samples, one per row\n",
    "  T: n_samples x n_outputs matrix of target output values, one sample per row\n",
    "  n_epochs: number of passes to take through all samples updating weights each pass\n",
    "  learning_rate: factor controlling the step size of each update\n",
    "  method: is either 'sgd' or 'adam'\n",
    "        '''\n",
    "\n",
    "        # Setup standardization parameters\n",
    "        if self.Xmeans is None:\n",
    "            self.Xmeans = X.mean(axis=0)\n",
    "            self.Xstds = X.std(axis=0)\n",
    "            self.Xstds[self.Xstds == 0] = 1  # So we don't divide by zero when standardizing\n",
    "            self.Tmeans = T.mean(axis=0)\n",
    "            self.Tstds = T.std(axis=0)\n",
    "            \n",
    "        # Standardize X and T\n",
    "        X = (X - self.Xmeans) / self.Xstds\n",
    "        T = (T - self.Tmeans) / self.Tstds\n",
    "\n",
    "        # Instantiate Optimizers object by giving it vector of all weights\n",
    "        optimizer = optimizers.Optimizers(self.all_weights)\n",
    "\n",
    "        # Define function to convert value from error_f into error in original T units, \n",
    "        # but only if the network has a single output. Multiplying by self.Tstds for \n",
    "        # multiple outputs does not correctly unstandardize the error.\n",
    "        if len(self.Tstds) == 1:\n",
    "            error_convert_f = lambda err: (np.sqrt(err) * self.Tstds)[0] # to scalar\n",
    "        else:\n",
    "            error_convert_f = lambda err: np.sqrt(err)[0] # to scalar\n",
    "            \n",
    "\n",
    "        if method == 'sgd':\n",
    "\n",
    "            error_trace = optimizer.sgd(self.error_f, self.gradient_f,\n",
    "                                        fargs=[X, T], n_epochs=n_epochs,\n",
    "                                        learning_rate=learning_rate,\n",
    "                                        verbose=True,\n",
    "                                        error_convert_f=error_convert_f)\n",
    "\n",
    "        elif method == 'adam':\n",
    "\n",
    "            error_trace = optimizer.adam(self.error_f, self.gradient_f,\n",
    "                                         fargs=[X, T], n_epochs=n_epochs,\n",
    "                                         learning_rate=learning_rate,\n",
    "                                         verbose=True,\n",
    "                                         error_convert_f=error_convert_f)\n",
    "\n",
    "        else:\n",
    "            raise Exception(\"method must be 'sgd' or 'adam'\")\n",
    "        \n",
    "        self.error_trace = error_trace\n",
    "\n",
    "        # Return neural network object to allow applying other methods after training.\n",
    "        #  Example:    Y = nnet.train(X, T, 100, 0.01).use(X)\n",
    "        return self\n",
    "\n",
    "    def relu(self, s):\n",
    "        s[s < 0] = 0\n",
    "        return s\n",
    "\n",
    "    def grad_relu(self, s):\n",
    "        return (s > 0).astype(int)\n",
    "    \n",
    "    def forward_pass(self, X):\n",
    "        '''X assumed already standardized. Output returned as standardized.'''\n",
    "        self.Ys = [X]\n",
    "        for W in self.Ws[:-1]:\n",
    "            if self.activation_function == 'relu':\n",
    "                self.Ys.append(self.relu(self.Ys[-1] @ W[1:, :] + W[0:1, :]))\n",
    "            else:\n",
    "                self.Ys.append(np.tanh(self.Ys[-1] @ W[1:, :] + W[0:1, :]))\n",
    "        last_W = self.Ws[-1]\n",
    "        self.Ys.append(self.Ys[-1] @ last_W[1:, :] + last_W[0:1, :])\n",
    "        return self.Ys\n",
    "\n",
    "    # Function to be minimized by optimizer method, mean squared error\n",
    "    def error_f(self, X, T):\n",
    "        Ys = self.forward_pass(X)\n",
    "        mean_sq_error = np.mean((T - Ys[-1]) ** 2)\n",
    "        return mean_sq_error\n",
    "\n",
    "    # Gradient of function to be minimized for use by optimizer method\n",
    "    def gradient_f(self, X, T):\n",
    "        '''Assumes forward_pass just called with layer outputs in self.Ys.'''\n",
    "        error = T - self.Ys[-1]\n",
    "        n_samples = X.shape[0]\n",
    "        n_outputs = T.shape[1]\n",
    "        delta = - error / (n_samples * n_outputs)\n",
    "        n_layers = len(self.n_hiddens_per_layer) + 1\n",
    "        # Step backwards through the layers to back-propagate the error (delta)\n",
    "        for layeri in range(n_layers - 1, -1, -1):\n",
    "            # gradient of all but bias weights\n",
    "            self.dE_dWs[layeri][1:, :] = self.Ys[layeri].T @ delta\n",
    "            # gradient of just the bias weights\n",
    "            self.dE_dWs[layeri][0:1, :] = np.sum(delta, 0)\n",
    "            # Back-propagate this layer's delta to previous layer\n",
    "            if self.activation_function == 'relu':\n",
    "                delta = delta @ self.Ws[layeri][1:, :].T * self.grad_relu(self.Ys[layeri])\n",
    "            else:\n",
    "                delta = delta @ self.Ws[layeri][1:, :].T * (1 - self.Ys[layeri] ** 2)\n",
    "        return self.all_gradients\n",
    "\n",
    "    def use(self, X):\n",
    "        '''X assumed to not be standardized'''\n",
    "        # Standardize X\n",
    "        X = (X - self.Xmeans) / self.Xstds\n",
    "        Ys = self.forward_pass(X)\n",
    "        Y = Ys[-1]\n",
    "        # Unstandardize output Y before returning it\n",
    "        return Y * self.Tstds + self.Tmeans"
   ]
  },
  {
   "cell_type": "code",
   "execution_count": 5,
   "metadata": {},
   "outputs": [
    {
     "name": "stdout",
     "output_type": "stream",
     "text": [
      "Adam: Epoch 25 Error=0.22804\n",
      "Adam: Epoch 50 Error=0.21420\n",
      "Adam: Epoch 75 Error=0.19376\n",
      "Adam: Epoch 100 Error=0.16294\n",
      "Adam: Epoch 125 Error=0.12373\n",
      "Adam: Epoch 150 Error=0.08971\n",
      "Adam: Epoch 175 Error=0.07047\n",
      "Adam: Epoch 200 Error=0.06056\n",
      "Adam: Epoch 225 Error=0.05382\n",
      "Adam: Epoch 250 Error=0.04839\n"
     ]
    },
    {
     "data": {
      "text/plain": [
       "<matplotlib.legend.Legend at 0x7fb37c10df98>"
      ]
     },
     "execution_count": 5,
     "metadata": {},
     "output_type": "execute_result"
    },
    {
     "data": {
      "image/png": "[encoded data removed]",
      "text/plain": [
       "<Figure size 432x288 with 2 Axes>"
      ]
     },
     "metadata": {
      "needs_background": "light"
     },
     "output_type": "display_data"
    }
   ],
   "source": [
    "X = np.arange(100).reshape((-1, 1))\n",
    "T = (X - 20) ** 3 / 300000\n",
    "\n",
    "hiddens = [10]\n",
    "nnet = NeuralNetwork(X.shape[1], hiddens, T.shape[1])\n",
    "nnet.train(X, T, 250, 0.01, method='adam')\n",
    "\n",
    "plt.subplot(1, 2, 1)\n",
    "plt.plot(nnet.error_trace)\n",
    "\n",
    "plt.subplot(1, 2, 2)\n",
    "plt.plot(T, label='T')\n",
    "plt.plot(nnet.use(X), label='Y')\n",
    "plt.legend()"
   ]
  },
  {
   "cell_type": "markdown",
   "metadata": {},
   "source": [
    "## Your `NeuralNetworkClassifier` class"
   ]
  },
  {
   "cell_type": "markdown",
   "metadata": {},
   "source": [
    "Complete the following definition of `NeuralNetworkClassifier` as discussed in class. You will need to override the functions\n",
    "\n",
    "* `train`\n",
    "* `error_f`\n",
    "* `gradient_f`\n",
    "* `use`\n",
    "\n",
    "and define the following new functions\n",
    "\n",
    "* `makeIndicatorVars`\n",
    "* `softmax`"
   ]
  },
  {
   "cell_type": "code",
   "execution_count": 132,
   "metadata": {},
   "outputs": [],
   "source": [
    "class NeuralNetworkClassifier(NeuralNetwork):\n",
    "    \n",
    "    def train(self, X, T, n_epochs, learning_rate, method='sgd', verbose=True):\n",
    "        self.classes = np.unique(T)\n",
    "\n",
    "        # Setup standardization parameters\n",
    "        if self.Xmeans is None:\n",
    "            self.Xmeans = X.mean(axis=0)\n",
    "            self.Xstds = X.std(axis=0)\n",
    "            self.Xstds[self.Xstds == 0] = 1 \n",
    "                \n",
    "        #DIFFERENCE HERE WHEN WE DONT STANDARDIZE T\n",
    "        #instead, send it to makeIndicatorVars\n",
    "        X = (X - self.Xmeans) / self.Xstds\n",
    "        T_indicator_vars = self.makeIndicatorVars(T)\n",
    "\n",
    "        # Instantiate Optimizers object by giving it vector of all weights\n",
    "        optimizer = optimizers.Optimizers(self.all_weights)\n",
    "\n",
    "        # Define function to convert value from error_f into error in original T units, \n",
    "        # but only if the network has a single output. Multiplying by self.Tstds for \n",
    "        # multiple outputs does not correctly unstandardize the error.\n",
    "        # if len(self.Tstds) == 1:\n",
    "        if self.Tstds:\n",
    "            error_convert_f = lambda err: (np.exp(-err) * self.Tstds)[0] # to scalar\n",
    "        else:\n",
    "            error_convert_f = lambda err: np.exp(-err) # to scalar\n",
    "\n",
    "        if method == 'sgd':\n",
    "\n",
    "            error_trace = optimizer.sgd(self.error_f, self.gradient_f,\n",
    "                                        fargs=[X, T_indicator_vars], n_epochs=n_epochs,\n",
    "                                        learning_rate=learning_rate,\n",
    "                                        verbose=True,\n",
    "                                        error_convert_f=error_convert_f)\n",
    "\n",
    "        elif method == 'adam':\n",
    "\n",
    "            error_trace = optimizer.adam(self.error_f, self.gradient_f,\n",
    "                                         fargs=[X, T_indicator_vars], n_epochs=n_epochs,\n",
    "                                         learning_rate=learning_rate,\n",
    "                                         verbose=True,\n",
    "                                         error_convert_f=error_convert_f)\n",
    "\n",
    "        else:\n",
    "            raise Exception(\"method must be 'sgd' or 'adam'\")\n",
    "        \n",
    "        self.error_trace = error_trace\n",
    "\n",
    "        # Return neural network object to allow applying other methods after training.\n",
    "        #  Example:    Y = nnet.train(X, T, 100, 0.01).use(X)\n",
    "        \n",
    "        return self\n",
    "    \n",
    "    def error_f(self, X, T):\n",
    "        Ys = self.forward_pass(X)\n",
    "        mean_sq_err = np.mean((T - Ys[-1]) ** 2)\n",
    "        return mean_sq_err\n",
    "    \n",
    "#     def forward_pass(self, X):\n",
    "#         self.Ys = [X]\n",
    "#         for W in self.Ws[:-1]:\n",
    "#             if self.activation_function == 'relu':\n",
    "#                 self.Ys.append(self.relu(self.Ys[-1] @ W[1:,:] + W[0:1, :]))\n",
    "#             else: \n",
    "#                 self.Ys.append(np.tanh(self.Ys[-1] @ W[1:,:] + W[0:1, :]))\n",
    "#         last_W = self.Ws[-1]\n",
    "#         self.Ys.append(self.Ys[-1] @ last_W[1:, :] + last_W[0:1, :])\n",
    "#         return self.Ys\n",
    "    \n",
    "    def gradient_f(self, X, T):\n",
    "        'assumes forward_pass just was called, layer outputs are in self.Ys'\n",
    "        \n",
    "        #here changing error from softmax values\n",
    "        Yz = self.softmax(self.Ys[-1])\n",
    "        \n",
    "        error = T - Yz\n",
    "        n_samples = X.shape[0]\n",
    "        n_outputs = T.shape[1]\n",
    "        delta = - error / (n_samples * n_outputs)\n",
    "        n_layers = len(self.n_hiddens_per_layer) + 1\n",
    "        # Step backwards through the layers to back-propagate the error (delta)\n",
    "        for layeri in range(n_layers - 1, -1, -1):\n",
    "            # gradient of all but bias weights\n",
    "            self.dE_dWs[layeri][1:, :] = self.Ys[layeri].T @ delta\n",
    "            # gradient of just the bias weights\n",
    "            self.dE_dWs[layeri][0:1, :] = np.sum(delta, 0)\n",
    "            # Back-propagate this layer's delta to previous layer\n",
    "            if self.activation_function == 'relu':\n",
    "                delta = delta @ self.Ws[layeri][1:, :].T * self.grad_relu(self.Ys[layeri])\n",
    "            else:\n",
    "                delta = delta @ self.Ws[layeri][1:, :].T * (1 - self.Ys[layeri] ** 2)\n",
    "        return self.all_gradients\n",
    "        \n",
    "    #same?\n",
    "    def use(self, X):\n",
    "        'X assumed to not be standardized'\n",
    "        #standardize\n",
    "        X = (X - self.Xmeans) / self.Xstds\n",
    "        Ys = self.forward_pass(X)\n",
    "        Y = self.softmax(Ys[-1])\n",
    "        classes = self.classes[np.argmax(Y, axis=1)].reshape(-1,1)\n",
    "        return classes, Y\n",
    "    \n",
    "    def makeIndicatorVars(self, T):\n",
    "        if T.ndim == 1: \n",
    "            T = T.reshape((-1,1))\n",
    "        return (T == np.unique(T)).astype(int)\n",
    "\n",
    "    def softmax(self, X):\n",
    "        fs = np.exp(X) \n",
    "        denom = np.sum(fs, axis=1).reshape((-1,1))\n",
    "        gs = fs /denom\n",
    "        return gs\n",
    "    "
   ]
  },
  {
   "cell_type": "markdown",
   "metadata": {},
   "source": [
    "Here is a simple test of your new class.  For inputs from 0 to 100, classify values less than or equal to 25 as Class Label 25, greater than 25 and less than or equal to 75 as Class Label 75, and greater than 75 as Class Label 100. "
   ]
  },
  {
   "cell_type": "code",
   "execution_count": 7,
   "metadata": {},
   "outputs": [
    {
     "data": {
      "image/png": "[encoded data removed]",
      "text/plain": [
       "<Figure size 432x288 with 1 Axes>"
      ]
     },
     "metadata": {
      "needs_background": "light"
     },
     "output_type": "display_data"
    }
   ],
   "source": [
    "X = np.arange(100).reshape((-1, 1))\n",
    "T = X.copy()\n",
    "T[T <= 25] = 25\n",
    "T[np.logical_and(25 < T, T <= 75)] = 75\n",
    "T[T > 75] = 100\n",
    "\n",
    "plt.plot(X, T, 'o-')\n",
    "plt.xlabel('X')\n",
    "plt.ylabel('Class');"
   ]
  },
  {
   "cell_type": "code",
   "execution_count": 8,
   "metadata": {},
   "outputs": [
    {
     "name": "stdout",
     "output_type": "stream",
     "text": [
      "Adam: Epoch 20 Error=0.51182\n",
      "Adam: Epoch 40 Error=0.16738\n",
      "Adam: Epoch 60 Error=0.01409\n",
      "Adam: Epoch 80 Error=0.00062\n",
      "Adam: Epoch 100 Error=0.00003\n",
      "Adam: Epoch 120 Error=0.00000\n",
      "Adam: Epoch 140 Error=0.00000\n",
      "Adam: Epoch 160 Error=0.00000\n",
      "Adam: Epoch 180 Error=0.00000\n",
      "Adam: Epoch 200 Error=0.00000\n"
     ]
    },
    {
     "data": {
      "text/plain": [
       "<matplotlib.legend.Legend at 0x7fb37bf61c50>"
      ]
     },
     "execution_count": 8,
     "metadata": {},
     "output_type": "execute_result"
    },
    {
     "data": {
      "image/png": "[encoded data removed]",
      "text/plain": [
       "<Figure size 432x288 with 2 Axes>"
      ]
     },
     "metadata": {
      "needs_background": "light"
     },
     "output_type": "display_data"
    }
   ],
   "source": [
    "hiddens = [10]\n",
    "nnet = NeuralNetworkClassifier(X.shape[1], hiddens, len(np.unique(T)))\n",
    "nnet.train(X, T, 200, 0.01, method='adam', verbose=True)\n",
    "\n",
    "plt.subplot(1, 2, 1)\n",
    "plt.plot(nnet.error_trace)\n",
    "plt.xlabel('Epoch')\n",
    "plt.ylabel('Likelihood')\n",
    "\n",
    "plt.subplot(1, 2, 2)\n",
    "plt.plot(T + 5, 'o-', label='T + 5')  # to see, when predicted overlap T very closely\n",
    "plt.plot(nnet.use(X)[0], 'o-', label='Y')\n",
    "plt.legend()"
   ]
  },
  {
   "cell_type": "markdown",
   "metadata": {},
   "source": [
    "## Now for the Hand-Drawn Digits\n",
    "\n",
    "We will use a bunch (50,000) images of hand drawn digits from [this deeplearning.net site](http://deeplearning.net/tutorial/gettingstarted.html).  Download `mnist.pkl.gz`. \n",
    "\n",
    "deeplearning.net goes down a lot.  If you can't download it from there you can try getting it from [here](https://gitlab.cs.washington.edu/colinxs/neural_nets/blob/master/mnist.pkl.gz).\n",
    "\n",
    "This pickle file includes data already partitioned into training, validation, and test sets.  To read it into python, use the following steps"
   ]
  },
  {
   "cell_type": "code",
   "execution_count": 100,
   "metadata": {},
   "outputs": [
    {
     "name": "stdout",
     "output_type": "stream",
     "text": [
      "(50000, 784) (50000, 1) (10000, 784) (10000, 1) (10000, 784) (10000, 1)\n"
     ]
    }
   ],
   "source": [
    "import pickle\n",
    "import gzip\n",
    "\n",
    "with gzip.open('mnist.pkl.gz', 'rb') as f:\n",
    "    train_set, valid_set, test_set = pickle.load(f, encoding='latin1')\n",
    "\n",
    "Xtrain = train_set[0]\n",
    "Ttrain = train_set[1].reshape(-1, 1)\n",
    "\n",
    "Xval = valid_set[0]\n",
    "Tval = valid_set[1].reshape(-1, 1)\n",
    "\n",
    "Xtest = test_set[0]\n",
    "Ttest = test_set[1].reshape(-1, 1)\n",
    "\n",
    "print(Xtrain.shape, Ttrain.shape,  Xval.shape, Tval.shape,  Xtest.shape, Ttest.shape)\n",
    "\n",
    "# d = {}\n",
    "# for x in range(1, 7):\n",
    "#     with gzip.open('mnist.pkl.gz', 'rb') as f:\n",
    "#         train_set, valid_set, test_set = pickle.load(f, encoding='latin1')\n",
    "\n",
    "#     d[\"Xtrain{0}\".format(x)] = train_set[0]\n",
    "#     d[\"Ttrain{0}\".format(x)] = train_set[1].reshape(-1, 1)\n",
    "\n",
    "#     d[\"Xval{0}\".format(x)] = valid_set[0]\n",
    "#     d[\"Tval{0}\".format(x)] = valid_set[1].reshape(-1, 1)\n",
    "\n",
    "#     d[\"Xtest{0}\".format(x)] = test_set[0]\n",
    "#     d[\"Ttest{0}\".format(x)] = test_set[1].reshape(-1, 1)\n",
    "    \n",
    "# d\n",
    "    \n",
    "# print(Xtrain.shape, Ttrain.shape,  Xval.shape, Tval.shape,  Xtest.shape, Ttest.shape)\n",
    "\n",
    "\n",
    "with gzip.open('mnist.pkl.gz', 'rb') as f:\n",
    "    train_set1, valid_set1, test_set1 = pickle.load(f, encoding='latin1')\n",
    "    \n",
    "Xtrain1 = train_set1[0]\n",
    "Ttrain1 = train_set1[1].reshape(-1, 1)\n",
    "\n",
    "Xval1 = valid_set1[0]\n",
    "Tval1 = valid_set1[1].reshape(-1, 1)\n",
    "\n",
    "Xtest1 = test_set1[0]\n",
    "Ttest1 = test_set1[1].reshape(-1, 1)\n",
    "\n",
    "\n",
    "with gzip.open('mnist.pkl.gz', 'rb') as f:\n",
    "    train_set2, valid_set2, test_set2 = pickle.load(f, encoding='latin1')\n",
    "    \n",
    "Xtrain2 = train_set2[0]\n",
    "Ttrain2 = train_set2[1].reshape(-1, 1)\n",
    "\n",
    "Xval2 = valid_set2[0]\n",
    "Tval2 = valid_set2[1].reshape(-1, 1)\n",
    "\n",
    "Xtest2 = test_set2[0]\n",
    "Ttest2 = test_set2[1].reshape(-1, 1)\n",
    "\n",
    "\n",
    "with gzip.open('mnist.pkl.gz', 'rb') as f:\n",
    "    train_set3, valid_set3, test_set3 = pickle.load(f, encoding='latin1')\n",
    "    \n",
    "Xtrain3 = train_set3[0]\n",
    "Ttrain3 = train_set3[1].reshape(-1, 1)\n",
    "\n",
    "Xval3 = valid_set3[0]\n",
    "Tval3 = valid_set3[1].reshape(-1, 1)\n",
    "\n",
    "Xtest3 = test_set3[0]\n",
    "Ttest3 = test_set3[1].reshape(-1, 1)\n",
    "\n",
    "\n",
    "with gzip.open('mnist.pkl.gz', 'rb') as f:\n",
    "    train_set4, valid_set4, test_set4 = pickle.load(f, encoding='latin1')\n",
    "    \n",
    "Xtrain4 = train_set4[0]\n",
    "Ttrain4 = train_set4[1].reshape(-1, 1)\n",
    "\n",
    "Xval4 = valid_set4[0]\n",
    "Tval4 = valid_set4[1].reshape(-1, 1)\n",
    "\n",
    "Xtest4 = test_set4[0]\n",
    "Ttest4 = test_set4[1].reshape(-1, 1)\n",
    "\n",
    "\n",
    "with gzip.open('mnist.pkl.gz', 'rb') as f:\n",
    "    train_set5, valid_set5, test_set5 = pickle.load(f, encoding='latin1')\n",
    "\n",
    "Xtrain5 = train_set5[0]\n",
    "Ttrain5 = train_set5[1].reshape(-1, 1)\n",
    "\n",
    "Xval5 = valid_set5[0]\n",
    "Tval5 = valid_set5[1].reshape(-1, 1)\n",
    "\n",
    "Xtest5 = test_set5[0]\n",
    "Ttest5 = test_set5[1].reshape(-1, 1)\n",
    "\n",
    "\n",
    "with gzip.open('mnist.pkl.gz', 'rb') as f:\n",
    "    train_set6, valid_set6, test_set6 = pickle.load(f, encoding='latin1')\n",
    "\n",
    "Xtrain6 = train_set6[0]\n",
    "Ttrain6 = train_set6[1].reshape(-1, 1)\n",
    "\n",
    "Xval6 = valid_set6[0]\n",
    "Tval6 = valid_set6[1].reshape(-1, 1)\n",
    "\n",
    "Xtest6 = test_set6[0]\n",
    "Ttest6 = test_set6[1].reshape(-1, 1)"
   ]
  },
  {
   "cell_type": "code",
   "execution_count": 101,
   "metadata": {},
   "outputs": [
    {
     "data": {
      "text/plain": [
       "array([[5],\n",
       "       [0],\n",
       "       [4],\n",
       "       [1],\n",
       "       [9],\n",
       "       [2],\n",
       "       [1],\n",
       "       [3],\n",
       "       [1],\n",
       "       [4]])"
      ]
     },
     "execution_count": 101,
     "metadata": {},
     "output_type": "execute_result"
    }
   ],
   "source": [
    "Ttrain[:10]"
   ]
  },
  {
   "cell_type": "markdown",
   "metadata": {},
   "source": [
    "Those must be the digits.  What the heck is in those 784 columns in the input matrices?"
   ]
  },
  {
   "cell_type": "code",
   "execution_count": 102,
   "metadata": {},
   "outputs": [
    {
     "data": {
      "image/png": "[encoded data removed]",
      "text/plain": [
       "<Figure size 432x288 with 1 Axes>"
      ]
     },
     "metadata": {
      "needs_background": "light"
     },
     "output_type": "display_data"
    }
   ],
   "source": [
    "plt.plot(Xtrain[0, :]);"
   ]
  },
  {
   "cell_type": "markdown",
   "metadata": {},
   "source": [
    "Well, values between 0 and 1.  That doesn't help much.  These are actually intensity values for 784 pixels in an image.\n",
    "\n",
    "How can we rearrange these values into an image to be displayed?  We must first figure out how many columns and rows the image would have.  Perhaps the image is a square image, with equal numbers of rows and columns."
   ]
  },
  {
   "cell_type": "code",
   "execution_count": 103,
   "metadata": {},
   "outputs": [
    {
     "data": {
      "text/plain": [
       "28.0"
      ]
     },
     "execution_count": 103,
     "metadata": {},
     "output_type": "execute_result"
    }
   ],
   "source": [
    "import math\n",
    "math.sqrt(784)"
   ]
  },
  {
   "cell_type": "markdown",
   "metadata": {},
   "source": [
    "Ah, cool."
   ]
  },
  {
   "cell_type": "code",
   "execution_count": 104,
   "metadata": {},
   "outputs": [
    {
     "data": {
      "text/plain": [
       "784"
      ]
     },
     "execution_count": 104,
     "metadata": {},
     "output_type": "execute_result"
    }
   ],
   "source": [
    "28 * 28"
   ]
  },
  {
   "cell_type": "markdown",
   "metadata": {},
   "source": [
    "Ok Let's reshape it and look at the numbers."
   ]
  },
  {
   "cell_type": "code",
   "execution_count": 105,
   "metadata": {},
   "outputs": [
    {
     "data": {
      "text/plain": [
       "array([[0.        , 0.        , 0.        , 0.        , 0.        ,\n",
       "        0.        , 0.        , 0.        , 0.        , 0.        ,\n",
       "        0.        , 0.        , 0.        , 0.        , 0.        ,\n",
       "        0.        , 0.        , 0.        , 0.        , 0.        ,\n",
       "        0.        , 0.        , 0.        , 0.        , 0.        ,\n",
       "        0.        , 0.        , 0.        ],\n",
       "       [0.        , 0.        , 0.        , 0.        , 0.        ,\n",
       "        0.        , 0.        , 0.        , 0.        , 0.        ,\n",
       "        0.        , 0.        , 0.        , 0.        , 0.        ,\n",
       "        0.        , 0.        , 0.        , 0.        , 0.        ,\n",
       "        0.        , 0.        , 0.        , 0.        , 0.        ,\n",
       "        0.        , 0.        , 0.        ],\n",
       "       [0.        , 0.        , 0.        , 0.        , 0.        ,\n",
       "        0.        , 0.        , 0.        , 0.        , 0.        ,\n",
       "        0.        , 0.        , 0.        , 0.        , 0.        ,\n",
       "        0.        , 0.        , 0.        , 0.        , 0.        ,\n",
       "        0.        , 0.        , 0.        , 0.        , 0.        ,\n",
       "        0.        , 0.        , 0.        ],\n",
       "       [0.        , 0.        , 0.        , 0.        , 0.        ,\n",
       "        0.        , 0.        , 0.        , 0.        , 0.        ,\n",
       "        0.        , 0.        , 0.        , 0.        , 0.        ,\n",
       "        0.        , 0.        , 0.        , 0.        , 0.        ,\n",
       "        0.        , 0.        , 0.        , 0.        , 0.        ,\n",
       "        0.        , 0.        , 0.        ],\n",
       "       [0.        , 0.        , 0.        , 0.        , 0.        ,\n",
       "        0.        , 0.        , 0.        , 0.        , 0.        ,\n",
       "        0.        , 0.        , 0.        , 0.        , 0.        ,\n",
       "        0.        , 0.        , 0.        , 0.        , 0.        ,\n",
       "        0.        , 0.        , 0.        , 0.        , 0.        ,\n",
       "        0.        , 0.        , 0.        ],\n",
       "       [0.        , 0.        , 0.        , 0.        , 0.        ,\n",
       "        0.        , 0.        , 0.        , 0.        , 0.        ,\n",
       "        0.        , 0.        , 0.01171875, 0.0703125 , 0.0703125 ,\n",
       "        0.0703125 , 0.4921875 , 0.53125   , 0.68359375, 0.1015625 ,\n",
       "        0.6484375 , 0.99609375, 0.96484375, 0.49609375, 0.        ,\n",
       "        0.        , 0.        , 0.        ],\n",
       "       [0.        , 0.        , 0.        , 0.        , 0.        ,\n",
       "        0.        , 0.        , 0.        , 0.1171875 , 0.140625  ,\n",
       "        0.3671875 , 0.6015625 , 0.6640625 , 0.98828125, 0.98828125,\n",
       "        0.98828125, 0.98828125, 0.98828125, 0.87890625, 0.671875  ,\n",
       "        0.98828125, 0.9453125 , 0.76171875, 0.25      , 0.        ,\n",
       "        0.        , 0.        , 0.        ],\n",
       "       [0.        , 0.        , 0.        , 0.        , 0.        ,\n",
       "        0.        , 0.        , 0.19140625, 0.9296875 , 0.98828125,\n",
       "        0.98828125, 0.98828125, 0.98828125, 0.98828125, 0.98828125,\n",
       "        0.98828125, 0.98828125, 0.98046875, 0.36328125, 0.3203125 ,\n",
       "        0.3203125 , 0.21875   , 0.15234375, 0.        , 0.        ,\n",
       "        0.        , 0.        , 0.        ],\n",
       "       [0.        , 0.        , 0.        , 0.        , 0.        ,\n",
       "        0.        , 0.        , 0.0703125 , 0.85546875, 0.98828125,\n",
       "        0.98828125, 0.98828125, 0.98828125, 0.98828125, 0.7734375 ,\n",
       "        0.7109375 , 0.96484375, 0.94140625, 0.        , 0.        ,\n",
       "        0.        , 0.        , 0.        , 0.        , 0.        ,\n",
       "        0.        , 0.        , 0.        ],\n",
       "       [0.        , 0.        , 0.        , 0.        , 0.        ,\n",
       "        0.        , 0.        , 0.        , 0.3125    , 0.609375  ,\n",
       "        0.41796875, 0.98828125, 0.98828125, 0.80078125, 0.04296875,\n",
       "        0.        , 0.16796875, 0.6015625 , 0.        , 0.        ,\n",
       "        0.        , 0.        , 0.        , 0.        , 0.        ,\n",
       "        0.        , 0.        , 0.        ],\n",
       "       [0.        , 0.        , 0.        , 0.        , 0.        ,\n",
       "        0.        , 0.        , 0.        , 0.        , 0.0546875 ,\n",
       "        0.00390625, 0.6015625 , 0.98828125, 0.3515625 , 0.        ,\n",
       "        0.        , 0.        , 0.        , 0.        , 0.        ,\n",
       "        0.        , 0.        , 0.        , 0.        , 0.        ,\n",
       "        0.        , 0.        , 0.        ],\n",
       "       [0.        , 0.        , 0.        , 0.        , 0.        ,\n",
       "        0.        , 0.        , 0.        , 0.        , 0.        ,\n",
       "        0.        , 0.54296875, 0.98828125, 0.7421875 , 0.0078125 ,\n",
       "        0.        , 0.        , 0.        , 0.        , 0.        ,\n",
       "        0.        , 0.        , 0.        , 0.        , 0.        ,\n",
       "        0.        , 0.        , 0.        ],\n",
       "       [0.        , 0.        , 0.        , 0.        , 0.        ,\n",
       "        0.        , 0.        , 0.        , 0.        , 0.        ,\n",
       "        0.        , 0.04296875, 0.7421875 , 0.98828125, 0.2734375 ,\n",
       "        0.        , 0.        , 0.        , 0.        , 0.        ,\n",
       "        0.        , 0.        , 0.        , 0.        , 0.        ,\n",
       "        0.        , 0.        , 0.        ],\n",
       "       [0.        , 0.        , 0.        , 0.        , 0.        ,\n",
       "        0.        , 0.        , 0.        , 0.        , 0.        ,\n",
       "        0.        , 0.        , 0.13671875, 0.94140625, 0.87890625,\n",
       "        0.625     , 0.421875  , 0.00390625, 0.        , 0.        ,\n",
       "        0.        , 0.        , 0.        , 0.        , 0.        ,\n",
       "        0.        , 0.        , 0.        ],\n",
       "       [0.        , 0.        , 0.        , 0.        , 0.        ,\n",
       "        0.        , 0.        , 0.        , 0.        , 0.        ,\n",
       "        0.        , 0.        , 0.        , 0.31640625, 0.9375    ,\n",
       "        0.98828125, 0.98828125, 0.46484375, 0.09765625, 0.        ,\n",
       "        0.        , 0.        , 0.        , 0.        , 0.        ,\n",
       "        0.        , 0.        , 0.        ],\n",
       "       [0.        , 0.        , 0.        , 0.        , 0.        ,\n",
       "        0.        , 0.        , 0.        , 0.        , 0.        ,\n",
       "        0.        , 0.        , 0.        , 0.        , 0.17578125,\n",
       "        0.7265625 , 0.98828125, 0.98828125, 0.5859375 , 0.10546875,\n",
       "        0.        , 0.        , 0.        , 0.        , 0.        ,\n",
       "        0.        , 0.        , 0.        ],\n",
       "       [0.        , 0.        , 0.        , 0.        , 0.        ,\n",
       "        0.        , 0.        , 0.        , 0.        , 0.        ,\n",
       "        0.        , 0.        , 0.        , 0.        , 0.        ,\n",
       "        0.0625    , 0.36328125, 0.984375  , 0.98828125, 0.73046875,\n",
       "        0.        , 0.        , 0.        , 0.        , 0.        ,\n",
       "        0.        , 0.        , 0.        ],\n",
       "       [0.        , 0.        , 0.        , 0.        , 0.        ,\n",
       "        0.        , 0.        , 0.        , 0.        , 0.        ,\n",
       "        0.        , 0.        , 0.        , 0.        , 0.        ,\n",
       "        0.        , 0.        , 0.97265625, 0.98828125, 0.97265625,\n",
       "        0.25      , 0.        , 0.        , 0.        , 0.        ,\n",
       "        0.        , 0.        , 0.        ],\n",
       "       [0.        , 0.        , 0.        , 0.        , 0.        ,\n",
       "        0.        , 0.        , 0.        , 0.        , 0.        ,\n",
       "        0.        , 0.        , 0.        , 0.        , 0.1796875 ,\n",
       "        0.5078125 , 0.71484375, 0.98828125, 0.98828125, 0.80859375,\n",
       "        0.0078125 , 0.        , 0.        , 0.        , 0.        ,\n",
       "        0.        , 0.        , 0.        ],\n",
       "       [0.        , 0.        , 0.        , 0.        , 0.        ,\n",
       "        0.        , 0.        , 0.        , 0.        , 0.        ,\n",
       "        0.        , 0.        , 0.15234375, 0.578125  , 0.89453125,\n",
       "        0.98828125, 0.98828125, 0.98828125, 0.9765625 , 0.7109375 ,\n",
       "        0.        , 0.        , 0.        , 0.        , 0.        ,\n",
       "        0.        , 0.        , 0.        ],\n",
       "       [0.        , 0.        , 0.        , 0.        , 0.        ,\n",
       "        0.        , 0.        , 0.        , 0.        , 0.        ,\n",
       "        0.09375   , 0.4453125 , 0.86328125, 0.98828125, 0.98828125,\n",
       "        0.98828125, 0.98828125, 0.78515625, 0.3046875 , 0.        ,\n",
       "        0.        , 0.        , 0.        , 0.        , 0.        ,\n",
       "        0.        , 0.        , 0.        ],\n",
       "       [0.        , 0.        , 0.        , 0.        , 0.        ,\n",
       "        0.        , 0.        , 0.        , 0.08984375, 0.2578125 ,\n",
       "        0.83203125, 0.98828125, 0.98828125, 0.98828125, 0.98828125,\n",
       "        0.7734375 , 0.31640625, 0.0078125 , 0.        , 0.        ,\n",
       "        0.        , 0.        , 0.        , 0.        , 0.        ,\n",
       "        0.        , 0.        , 0.        ],\n",
       "       [0.        , 0.        , 0.        , 0.        , 0.        ,\n",
       "        0.        , 0.0703125 , 0.66796875, 0.85546875, 0.98828125,\n",
       "        0.98828125, 0.98828125, 0.98828125, 0.76171875, 0.3125    ,\n",
       "        0.03515625, 0.        , 0.        , 0.        , 0.        ,\n",
       "        0.        , 0.        , 0.        , 0.        , 0.        ,\n",
       "        0.        , 0.        , 0.        ],\n",
       "       [0.        , 0.        , 0.        , 0.        , 0.21484375,\n",
       "        0.671875  , 0.8828125 , 0.98828125, 0.98828125, 0.98828125,\n",
       "        0.98828125, 0.953125  , 0.51953125, 0.04296875, 0.        ,\n",
       "        0.        , 0.        , 0.        , 0.        , 0.        ,\n",
       "        0.        , 0.        , 0.        , 0.        , 0.        ,\n",
       "        0.        , 0.        , 0.        ],\n",
       "       [0.        , 0.        , 0.        , 0.        , 0.53125   ,\n",
       "        0.98828125, 0.98828125, 0.98828125, 0.828125  , 0.52734375,\n",
       "        0.515625  , 0.0625    , 0.        , 0.        , 0.        ,\n",
       "        0.        , 0.        , 0.        , 0.        , 0.        ,\n",
       "        0.        , 0.        , 0.        , 0.        , 0.        ,\n",
       "        0.        , 0.        , 0.        ],\n",
       "       [0.        , 0.        , 0.        , 0.        , 0.        ,\n",
       "        0.        , 0.        , 0.        , 0.        , 0.        ,\n",
       "        0.        , 0.        , 0.        , 0.        , 0.        ,\n",
       "        0.        , 0.        , 0.        , 0.        , 0.        ,\n",
       "        0.        , 0.        , 0.        , 0.        , 0.        ,\n",
       "        0.        , 0.        , 0.        ],\n",
       "       [0.        , 0.        , 0.        , 0.        , 0.        ,\n",
       "        0.        , 0.        , 0.        , 0.        , 0.        ,\n",
       "        0.        , 0.        , 0.        , 0.        , 0.        ,\n",
       "        0.        , 0.        , 0.        , 0.        , 0.        ,\n",
       "        0.        , 0.        , 0.        , 0.        , 0.        ,\n",
       "        0.        , 0.        , 0.        ],\n",
       "       [0.        , 0.        , 0.        , 0.        , 0.        ,\n",
       "        0.        , 0.        , 0.        , 0.        , 0.        ,\n",
       "        0.        , 0.        , 0.        , 0.        , 0.        ,\n",
       "        0.        , 0.        , 0.        , 0.        , 0.        ,\n",
       "        0.        , 0.        , 0.        , 0.        , 0.        ,\n",
       "        0.        , 0.        , 0.        ]], dtype=float32)"
      ]
     },
     "execution_count": 105,
     "metadata": {},
     "output_type": "execute_result"
    }
   ],
   "source": [
    "image0 = Xtrain[0, :]\n",
    "image0 = image0.reshape(28, 28)\n",
    "image0"
   ]
  },
  {
   "cell_type": "markdown",
   "metadata": {},
   "source": [
    "Not that helpful.  Ok, let's use `matplotlib` to make an image display."
   ]
  },
  {
   "cell_type": "code",
   "execution_count": 106,
   "metadata": {},
   "outputs": [
    {
     "data": {
      "image/png": "[encoded data removed]",
      "text/plain": [
       "<Figure size 432x288 with 1 Axes>"
      ]
     },
     "metadata": {
      "needs_background": "light"
     },
     "output_type": "display_data"
    }
   ],
   "source": [
    "plt.imshow(image0);"
   ]
  },
  {
   "cell_type": "markdown",
   "metadata": {},
   "source": [
    "Humm.  Try a grayscale color map."
   ]
  },
  {
   "cell_type": "code",
   "execution_count": 107,
   "metadata": {},
   "outputs": [
    {
     "data": {
      "image/png": "[encoded data removed]",
      "text/plain": [
       "<Figure size 432x288 with 1 Axes>"
      ]
     },
     "metadata": {
      "needs_background": "light"
     },
     "output_type": "display_data"
    }
   ],
   "source": [
    "plt.imshow(image0, cmap='gray');"
   ]
  },
  {
   "cell_type": "markdown",
   "metadata": {},
   "source": [
    "With a little more work, we can make it look like a pencil drawing."
   ]
  },
  {
   "cell_type": "code",
   "execution_count": 108,
   "metadata": {},
   "outputs": [
    {
     "data": {
      "image/png": "[encoded data removed]",
      "text/plain": [
       "<Figure size 432x288 with 1 Axes>"
      ]
     },
     "metadata": {
      "needs_background": "light"
     },
     "output_type": "display_data"
    }
   ],
   "source": [
    "plt.imshow(-image0, cmap='gray')  # notice the negative sign\n",
    "plt.axis('off');"
   ]
  },
  {
   "cell_type": "markdown",
   "metadata": {},
   "source": [
    "Looks like a 5.  What class label is associated with this image?"
   ]
  },
  {
   "cell_type": "code",
   "execution_count": 109,
   "metadata": {},
   "outputs": [
    {
     "data": {
      "text/plain": [
       "array([5])"
      ]
     },
     "execution_count": 109,
     "metadata": {},
     "output_type": "execute_result"
    }
   ],
   "source": [
    "Ttrain[0]"
   ]
  },
  {
   "cell_type": "markdown",
   "metadata": {},
   "source": [
    "Okay.  Makes sense.  Let's look at the first 100 images and their labels, as plot titles."
   ]
  },
  {
   "cell_type": "code",
   "execution_count": 110,
   "metadata": {},
   "outputs": [
    {
     "data": {
      "image/png": "[encoded data removed]",
      "text/plain": [
       "<Figure size 1440x1440 with 100 Axes>"
      ]
     },
     "metadata": {
      "needs_background": "light"
     },
     "output_type": "display_data"
    }
   ],
   "source": [
    "plt.figure(figsize=(20, 20))\n",
    "for i in range(100):\n",
    "    plt.subplot(10, 10, i + 1)\n",
    "    plt.imshow(-Xtrain[i, :].reshape(28, 28), cmap='gray')\n",
    "    plt.title(Ttrain[i, 0])\n",
    "    plt.axis('off');"
   ]
  },
  {
   "cell_type": "markdown",
   "metadata": {},
   "source": [
    "Okay.  We are ready to try to classify, right?\n",
    "\n",
    "First we should check the proportions of each digit in the given data partitions."
   ]
  },
  {
   "cell_type": "code",
   "execution_count": 111,
   "metadata": {},
   "outputs": [
    {
     "data": {
      "text/plain": [
       "(50000, 10)"
      ]
     },
     "execution_count": 111,
     "metadata": {},
     "output_type": "execute_result"
    }
   ],
   "source": [
    "classes = np.arange(10)\n",
    "(Ttrain == classes).shape"
   ]
  },
  {
   "cell_type": "code",
   "execution_count": 112,
   "metadata": {},
   "outputs": [
    {
     "data": {
      "text/plain": [
       "array([4932, 5678, 4968, 5101, 4859, 4506, 4951, 5175, 4842, 4988])"
      ]
     },
     "execution_count": 112,
     "metadata": {},
     "output_type": "execute_result"
    }
   ],
   "source": [
    "(Ttrain == classes).sum(axis=0)"
   ]
  },
  {
   "cell_type": "code",
   "execution_count": 113,
   "metadata": {},
   "outputs": [
    {
     "data": {
      "text/plain": [
       "array([0.09864, 0.11356, 0.09936, 0.10202, 0.09718, 0.09012, 0.09902,\n",
       "       0.1035 , 0.09684, 0.09976])"
      ]
     },
     "execution_count": 113,
     "metadata": {},
     "output_type": "execute_result"
    }
   ],
   "source": [
    "(Ttrain == classes).sum(axis=0) / Ttrain.shape[0]"
   ]
  },
  {
   "cell_type": "code",
   "execution_count": 114,
   "metadata": {},
   "outputs": [
    {
     "data": {
      "text/plain": [
       "['Ttrain',\n",
       " 0.09864,\n",
       " 0.11356,\n",
       " 0.09936,\n",
       " 0.10202,\n",
       " 0.09718,\n",
       " 0.09012,\n",
       " 0.09902,\n",
       " 0.1035,\n",
       " 0.09684,\n",
       " 0.09976]"
      ]
     },
     "execution_count": 114,
     "metadata": {},
     "output_type": "execute_result"
    }
   ],
   "source": [
    "['Ttrain', *(Ttrain == classes).sum(axis=0) / Ttrain.shape[0]]"
   ]
  },
  {
   "cell_type": "code",
   "execution_count": 115,
   "metadata": {},
   "outputs": [
    {
     "data": {
      "text/html": [
       "<div>\n",
       "<style scoped>\n",
       "    .dataframe tbody tr th:only-of-type {\n",
       "        vertical-align: middle;\n",
       "    }\n",
       "\n",
       "    .dataframe tbody tr th {\n",
       "        vertical-align: top;\n",
       "    }\n",
       "\n",
       "    .dataframe thead th {\n",
       "        text-align: right;\n",
       "    }\n",
       "</style>\n",
       "<table border=\"1\" class=\"dataframe\">\n",
       "  <thead>\n",
       "    <tr style=\"text-align: right;\">\n",
       "      <th></th>\n",
       "      <th>0</th>\n",
       "      <th>1</th>\n",
       "      <th>2</th>\n",
       "      <th>3</th>\n",
       "      <th>4</th>\n",
       "      <th>5</th>\n",
       "      <th>6</th>\n",
       "      <th>7</th>\n",
       "      <th>8</th>\n",
       "      <th>9</th>\n",
       "      <th>10</th>\n",
       "    </tr>\n",
       "  </thead>\n",
       "  <tbody>\n",
       "    <tr>\n",
       "      <th>0</th>\n",
       "      <td>Train</td>\n",
       "      <td>0.09864</td>\n",
       "      <td>0.11356</td>\n",
       "      <td>0.09936</td>\n",
       "      <td>0.10202</td>\n",
       "      <td>0.09718</td>\n",
       "      <td>0.09012</td>\n",
       "      <td>0.09902</td>\n",
       "      <td>0.1035</td>\n",
       "      <td>0.09684</td>\n",
       "      <td>0.09976</td>\n",
       "    </tr>\n",
       "    <tr>\n",
       "      <th>1</th>\n",
       "      <td>Tval</td>\n",
       "      <td>0.09910</td>\n",
       "      <td>0.10640</td>\n",
       "      <td>0.09900</td>\n",
       "      <td>0.10300</td>\n",
       "      <td>0.09830</td>\n",
       "      <td>0.09150</td>\n",
       "      <td>0.09670</td>\n",
       "      <td>0.1090</td>\n",
       "      <td>0.10090</td>\n",
       "      <td>0.09610</td>\n",
       "    </tr>\n",
       "    <tr>\n",
       "      <th>2</th>\n",
       "      <td>Ttest</td>\n",
       "      <td>0.09800</td>\n",
       "      <td>0.11350</td>\n",
       "      <td>0.10320</td>\n",
       "      <td>0.10100</td>\n",
       "      <td>0.09820</td>\n",
       "      <td>0.08920</td>\n",
       "      <td>0.09580</td>\n",
       "      <td>0.1028</td>\n",
       "      <td>0.09740</td>\n",
       "      <td>0.10090</td>\n",
       "    </tr>\n",
       "  </tbody>\n",
       "</table>\n",
       "</div>"
      ],
      "text/plain": [
       "      0        1        2        3        4        5        6        7   \\\n",
       "0  Train  0.09864  0.11356  0.09936  0.10202  0.09718  0.09012  0.09902   \n",
       "1   Tval  0.09910  0.10640  0.09900  0.10300  0.09830  0.09150  0.09670   \n",
       "2  Ttest  0.09800  0.11350  0.10320  0.10100  0.09820  0.08920  0.09580   \n",
       "\n",
       "       8        9        10  \n",
       "0  0.1035  0.09684  0.09976  \n",
       "1  0.1090  0.10090  0.09610  \n",
       "2  0.1028  0.09740  0.10090  "
      ]
     },
     "execution_count": 115,
     "metadata": {},
     "output_type": "execute_result"
    }
   ],
   "source": [
    "import pandas\n",
    "\n",
    "result = []\n",
    "result.append(['Train', *(Ttrain == classes).sum(axis=0) / Ttrain.shape[0]])\n",
    "result.append(['Tval', *(Tval == classes).sum(axis=0) / Tval.shape[0]])\n",
    "result.append(['Ttest', *(Ttest == classes).sum(axis=0) / Ttest.shape[0]])\n",
    "pandas.DataFrame(result)"
   ]
  },
  {
   "cell_type": "markdown",
   "metadata": {},
   "source": [
    "All very close to 0.1. Super."
   ]
  },
  {
   "cell_type": "markdown",
   "metadata": {},
   "source": [
    "Time for our first experiment.  Let's train a small neural net with 5 hidden units in one layer for a small number of epochs using Adam."
   ]
  },
  {
   "cell_type": "code",
   "execution_count": 116,
   "metadata": {},
   "outputs": [
    {
     "name": "stdout",
     "output_type": "stream",
     "text": [
      "Adam: Epoch 10 Error=0.80443\n",
      "Adam: Epoch 20 Error=0.66941\n",
      "Adam: Epoch 30 Error=0.52021\n",
      "Adam: Epoch 40 Error=0.38317\n",
      "Adam: Epoch 50 Error=0.27381\n",
      "Adam: Epoch 60 Error=0.19635\n",
      "Adam: Epoch 70 Error=0.14296\n",
      "Adam: Epoch 80 Error=0.10529\n",
      "Adam: Epoch 90 Error=0.07894\n",
      "Adam: Epoch 100 Error=0.06003\n"
     ]
    },
    {
     "data": {
      "text/plain": [
       "NeuralNetworkClassifier(784, [5], 10, 'tanh')"
      ]
     },
     "execution_count": 116,
     "metadata": {},
     "output_type": "execute_result"
    }
   ],
   "source": [
    "n_epochs = 100\n",
    "learning_rate = 0.01\n",
    "\n",
    "np.random.seed(142)\n",
    "\n",
    "nnet = NeuralNetworkClassifier(Xtrain.shape[1], [5], len(classes))\n",
    "nnet.train(Xtrain, Ttrain, n_epochs, learning_rate, method='adam', verbose=True)"
   ]
  },
  {
   "cell_type": "code",
   "execution_count": 117,
   "metadata": {},
   "outputs": [
    {
     "name": "stdout",
     "output_type": "stream",
     "text": [
      "NeuralNetworkClassifier(784, [5], 10, 'tanh') trained for 100 epochs, final training error 0.0600\n"
     ]
    }
   ],
   "source": [
    "print(nnet)  # uses the __str__ method"
   ]
  },
  {
   "cell_type": "code",
   "execution_count": 139,
   "metadata": {},
   "outputs": [
    {
     "data": {
      "image/png": "[encoded data removed]",
      "text/plain": [
       "<Figure size 432x288 with 1 Axes>"
      ]
     },
     "metadata": {
      "needs_background": "light"
     },
     "output_type": "display_data"
    }
   ],
   "source": [
    "plt.plot(nnet.error_trace);"
   ]
  },
  {
   "cell_type": "code",
   "execution_count": 164,
   "metadata": {},
   "outputs": [
    {
     "name": "stdout",
     "output_type": "stream",
     "text": [
      "Adam: Epoch 50 Error=0.00253\n",
      "Adam: Epoch 100 Error=0.00037\n",
      "Adam: Epoch 150 Error=0.00006\n",
      "Adam: Epoch 200 Error=0.00001\n",
      "Adam: Epoch 250 Error=0.00000\n",
      "Adam: Epoch 300 Error=0.00000\n",
      "Adam: Epoch 350 Error=0.00000\n",
      "Adam: Epoch 400 Error=0.00000\n",
      "Adam: Epoch 450 Error=0.00000\n",
      "Adam: Epoch 500 Error=0.00000\n",
      "Sixth Network\n",
      "   Hidden Layers   Train  Validate   Test       Time\n",
      "0          [30]  99.124     93.76  92.97  345.48296\n"
     ]
    },
    {
     "data": {
      "text/html": [
       "<div>\n",
       "<style scoped>\n",
       "    .dataframe tbody tr th:only-of-type {\n",
       "        vertical-align: middle;\n",
       "    }\n",
       "\n",
       "    .dataframe tbody tr th {\n",
       "        vertical-align: top;\n",
       "    }\n",
       "\n",
       "    .dataframe thead th {\n",
       "        text-align: right;\n",
       "    }\n",
       "</style>\n",
       "<table border=\"1\" class=\"dataframe\">\n",
       "  <thead>\n",
       "    <tr style=\"text-align: right;\">\n",
       "      <th></th>\n",
       "      <th>Hidden Layers</th>\n",
       "      <th>Train</th>\n",
       "      <th>Validate</th>\n",
       "      <th>Test</th>\n",
       "      <th>Time</th>\n",
       "    </tr>\n",
       "  </thead>\n",
       "  <tbody>\n",
       "    <tr>\n",
       "      <th>0</th>\n",
       "      <td>[30]</td>\n",
       "      <td>99.124</td>\n",
       "      <td>93.76</td>\n",
       "      <td>92.97</td>\n",
       "      <td>345.48296</td>\n",
       "    </tr>\n",
       "  </tbody>\n",
       "</table>\n",
       "</div>"
      ],
      "text/plain": [
       "  Hidden Layers   Train  Validate   Test       Time\n",
       "0          [30]  99.124     93.76  92.97  345.48296"
      ]
     },
     "execution_count": 164,
     "metadata": {},
     "output_type": "execute_result"
    },
    {
     "data": {
      "image/png": "[encoded data removed]",
      "text/plain": [
       "<Figure size 432x288 with 1 Axes>"
      ]
     },
     "metadata": {
      "needs_background": "light"
     },
     "output_type": "display_data"
    }
   ],
   "source": [
    "import time\n",
    "\n",
    "plt.plot(nnet.error_trace)\n",
    "\n",
    "\n",
    "\n",
    "# start1 = time.time()\n",
    "# n_epochs1 = 500  # 100 small number of epochs\n",
    "# learning_rate1 = 0.01\n",
    "# hiddens1 = [10]\n",
    "\n",
    "# np.random.seed(67)\n",
    "\n",
    "# nnet1 = NeuralNetworkClassifier(Xtrain1.shape[1], hiddens1, len(classes))\n",
    "# nnet1.train(Xtrain1, Ttrain1, n_epochs1, learning_rate1, method='sgd', verbose=True)\n",
    "\n",
    "# plt.plot(nnet1.error_trace)\n",
    "\n",
    "# elapsed1 = (time.time() - start1) \n",
    "\n",
    "# Y_classes1, Y_probs1 = nnet1.use(Xtrain1)\n",
    "# Y_classes2, Y_probs2 = nnet1.use(Xval1)\n",
    "# Y_classes3, Y_probs3 = nnet1.use(Xtest1)\n",
    "\n",
    "# result1 = []\n",
    "# result1.append([hiddens1,\n",
    "#                 100 * np.mean(Y_classes1 == Ttrain1),\n",
    "#                 100 * np.mean(Y_classes2 == Tval1),\n",
    "#                 100 * np.mean(Y_classes3 == Ttest1),\n",
    "#                 elapsed1])\n",
    "\n",
    "# df1 = pandas.DataFrame(result1, columns=('Hidden Layers','Train','Validate','Test','Time'))\n",
    "# print(\"First Network\\n\", df1)\n",
    "\n",
    "\n",
    "# start2 = time.time()\n",
    "# n_epochs2 = 500  \n",
    "# learning_rate2 = 0.01\n",
    "# hiddens2 = [15]\n",
    "\n",
    "# np.random.seed(99)\n",
    "\n",
    "# nnet2 = NeuralNetworkClassifier(Xtrain2.shape[1], hiddens2, len(classes))\n",
    "# nnet2.train(Xtrain2, Ttrain2, n_epochs2, learning_rate2, method='sgd', verbose=True)\n",
    "\n",
    "# plt.plot(nnet2.error_trace)\n",
    "\n",
    "# elapsed2 = (time.time() - start2) \n",
    "\n",
    "# Y_classes4, Y_probs4 = nnet2.use(Xtrain2)\n",
    "# Y_classes5, Y_probs5 = nnet2.use(Xval2)\n",
    "# Y_classes6, Y_probs6 = nnet2.use(Xtest2)\n",
    "\n",
    "# result2 = []\n",
    "# result2.append([hiddens2,\n",
    "#                 100 * np.mean(Y_classes4 == Ttrain2),\n",
    "#                 100 * np.mean(Y_classes5 == Tval2),\n",
    "#                 100 * np.mean(Y_classes6 == Ttest2),\n",
    "#                 elapsed2])\n",
    "\n",
    "# df2 = pandas.DataFrame(result2, columns=('Hidden Layers','Train','Validate','Test','Time'))\n",
    "# print(\"Second Network\\n\", df2)\n",
    "\n",
    "\n",
    "# start3 = time.time()\n",
    "# n_epochs3 = 500  \n",
    "# learning_rate3 = 0.01\n",
    "# hiddens3 = [25]\n",
    "\n",
    "# np.random.seed(33)\n",
    "\n",
    "# nnet3 = NeuralNetworkClassifier(Xtrain3.shape[1], hiddens3, len(classes))\n",
    "# nnet3.train(Xtrain3, Ttrain3, n_epochs3, learning_rate3, method='sgd', verbose=True)\n",
    "\n",
    "# plt.plot(nnet3.error_trace)\n",
    "\n",
    "# elapsed3 = (time.time() - start3) \n",
    "\n",
    "# Y_classes7, Y_probs7 = nnet3.use(Xtrain3)\n",
    "# Y_classes8, Y_probs8 = nnet3.use(Xval3)\n",
    "# Y_classes9, Y_probs9 = nnet3.use(Xtest3)\n",
    "\n",
    "# result3 = []\n",
    "# result3.append([hiddens3,\n",
    "#                 100 * np.mean(Y_classes7 == Ttrain3),\n",
    "#                 100 * np.mean(Y_classes8 == Tval3),\n",
    "#                 100 * np.mean(Y_classes9 == Ttest3),\n",
    "#                 elapsed3])\n",
    "\n",
    "# df3 = pandas.DataFrame(result3, columns=('Hidden Layers','Train','Validate','Test','Time'))\n",
    "# print(\"Third Network\\n\", df3)\n",
    "\n",
    "\n",
    "# start4 = time.time()\n",
    "# n_epochs4 = 500 \n",
    "# learning_rate4 = 0.01\n",
    "# hiddens4 = [10]\n",
    "\n",
    "# np.random.seed(4)\n",
    "\n",
    "# nnet4 = NeuralNetworkClassifier(Xtrain4.shape[1], hiddens4, len(classes))\n",
    "# nnet4.train(Xtrain4, Ttrain4, n_epochs4, learning_rate4, method='adam', verbose=True)\n",
    "\n",
    "# plt.plot(nnet4.error_trace)\n",
    "\n",
    "# elapsed4 = (time.time() - start4)\n",
    "\n",
    "# Y_classes10, Y_probs10 = nnet4.use(Xtrain4)\n",
    "# Y_classes11, Y_probs11 = nnet4.use(Xval4)\n",
    "# Y_classes12, Y_probs12 = nnet4.use(Xtest4)\n",
    "\n",
    "# result4 = []\n",
    "# result4.append([hiddens4,\n",
    "#                 100 * np.mean(Y_classes10 == Ttrain4),\n",
    "#                 100 * np.mean(Y_classes11 == Tval4),\n",
    "#                 100 * np.mean(Y_classes12 == Ttest4),\n",
    "#                 elapsed4])\n",
    "\n",
    "# df4 = pandas.DataFrame(result4, columns=('Hidden Layers','Train','Validate','Test','Time'))\n",
    "# print(\"Fourth Network\\n\", df4)\n",
    "\n",
    "\n",
    "# start5 = time.time()\n",
    "# n_epochs5 = 500  \n",
    "# learning_rate5 = 0.01\n",
    "# hiddens5 = [20,25]\n",
    "\n",
    "# np.random.seed(22)\n",
    "\n",
    "# nnet5 = NeuralNetworkClassifier(Xtrain5.shape[1], hiddens5, len(classes))\n",
    "# nnet5.train(Xtrain5, Ttrain5, n_epochs5, learning_rate5, method='adam', verbose=True)\n",
    "\n",
    "# plt.plot(nnet5.error_trace)\n",
    "\n",
    "# elapsed5 = (time.time() - start5) \n",
    "\n",
    "# Y_classes13, Y_probs13 = nnet5.use(Xtrain5)\n",
    "# Y_classes14, Y_probs14 = nnet5.use(Xval5)\n",
    "# Y_classes15, Y_probs15 = nnet5.use(Xtest5)\n",
    "\n",
    "# result5 = []\n",
    "# result5.append([hiddens5,\n",
    "#                 100 * np.mean(Y_classes13 == Ttrain5),\n",
    "#                 100 * np.mean(Y_classes14 == Tval5),\n",
    "#                 100 * np.mean(Y_classes15 == Ttest5),\n",
    "#                 elapsed5])\n",
    "\n",
    "# df5 = pandas.DataFrame(result5, columns=('Hidden Layers','Train','Validate','Test','Time'))\n",
    "# print(\"Fifth Network\\n\", df5)\n",
    "\n",
    "\n",
    "start6 = time.time()\n",
    "n_epochs6 = 500  \n",
    "learning_rate6 = 0.01\n",
    "hiddens6 = [30]\n",
    "\n",
    "np.random.seed(22)\n",
    "\n",
    "nnet6 = NeuralNetworkClassifier(Xtrain6.shape[1], hiddens6, len(classes))\n",
    "nnet6.train(Xtrain6, Ttrain6, n_epochs6, learning_rate6, method='adam', verbose=True)\n",
    "\n",
    "plt.plot(nnet6.error_trace)\n",
    "\n",
    "elapsed6 = (time.time() - start6) \n",
    "\n",
    "Y_classes16, Y_probs13 = nnet6.use(Xtrain6)\n",
    "Y_classes17, Y_probs14 = nnet6.use(Xval6)\n",
    "Y_classes18, Y_probs15 = nnet6.use(Xtest6)\n",
    "\n",
    "result6 = []\n",
    "result6.append([hiddens6,\n",
    "                100 * np.mean(Y_classes16 == Ttrain6),\n",
    "                100 * np.mean(Y_classes17 == Tval6),\n",
    "                100 * np.mean(Y_classes18 == Ttest6),\n",
    "                elapsed6])\n",
    "\n",
    "df6 = pandas.DataFrame(result6, columns=('Hidden Layers','Train','Validate','Test','Time'))\n",
    "print(\"Sixth Network\\n\", df6)\n",
    "\n",
    "df6"
   ]
  },
  {
   "cell_type": "code",
   "execution_count": 165,
   "metadata": {
    "scrolled": true
   },
   "outputs": [],
   "source": [
    "# fig, (ax1, ax2, ax3, ax4, ax5, ax6) = plt.subplots(6)\n",
    "# fig.suptitle('Nnet error_trace for different models')\n",
    "# fig.set_size_inches(15, 15)\n",
    "# ax1.plot(nnet1.error_trace)\n",
    "# ax2.plot(nnet2.error_trace, 'tab:orange')\n",
    "# ax3.plot(nnet3.error_trace, 'tab:green')\n",
    "# ax4.plot(nnet4.error_trace, 'tab:red')\n",
    "# ax5.plot(nnet3.error_trace, 'tab:blue')\n",
    "# ax6.plot(nnet4.error_trace, 'tab:purple')\n"
   ]
  },
  {
   "cell_type": "markdown",
   "metadata": {},
   "source": [
    "Now it is time for you to run some longer experiments.  You must write the code to do the following steps:\n",
    "\n",
    "1. For each of at least five different hidden layer structures\n",
    "\n",
    "    1. Train a network for 500 epochs.\n",
    "    1. Collect percent of samples correctly classified in the given train, validate, and test partitions.\n",
    "\n",
    "2. Create a `pandas.DataFrame` with these results and with column headings `('Hidden Layers', 'Train', 'Validate', 'Test', 'Time')` where `'Time'` is the number of seconds required to train each network.\n",
    "\n",
    "3. Retrain a network using the best hidden layer structure, judged by the percent correct on the validation set.\n",
    "4. Use this network to find several images in the test set for which the network's probability of the correct class is the closest to zero, meaning images for which your network does the worst.  Draw these images and discuss why your network might not be doing well for those images."
   ]
  },
  {
   "cell_type": "markdown",
   "metadata": {},
   "source": [
    "The model fails to perform on images that have similar filters with similar features. The model was given so much data that there were similarities in features that were harder to distinguish. Take the traits from a 2 compared to a 7, and the 3 to 8 similarities are just an issue with the filtering of the train data. This problem can be expected to continue with more data because people tend to write in ways that have similarities with those features. The model can be trained very well and just have some uncertainties on those features. With 50,000 examples to learn from, the models were also computationally expensive which took lots of time to run. When the number of hidden layers was large, it took models even longer to work. This could be sped up by utilizing GPU resources. "
   ]
  },
  {
   "cell_type": "markdown",
   "metadata": {},
   "source": [
    "## `confusion_matrix`\n",
    "\n",
    "Now, write a function named `confusion_matrix` that returns a confusion matrix for any classification problem, returned as a `pandas.DataFrame` as shown in Lecture Notes 12.  It must require two arguments, the predicted classes for each sample and the true classes for each sample.  Here is an example."
   ]
  },
  {
   "cell_type": "code",
   "execution_count": 129,
   "metadata": {},
   "outputs": [
    {
     "data": {
      "text/html": [
       "<div>\n",
       "<style scoped>\n",
       "    .dataframe tbody tr th:only-of-type {\n",
       "        vertical-align: middle;\n",
       "    }\n",
       "\n",
       "    .dataframe tbody tr th {\n",
       "        vertical-align: top;\n",
       "    }\n",
       "\n",
       "    .dataframe thead th {\n",
       "        text-align: right;\n",
       "    }\n",
       "</style>\n",
       "<table border=\"1\" class=\"dataframe\">\n",
       "  <thead>\n",
       "    <tr style=\"text-align: right;\">\n",
       "      <th></th>\n",
       "      <th>0</th>\n",
       "      <th>1</th>\n",
       "      <th>2</th>\n",
       "      <th>3</th>\n",
       "      <th>4</th>\n",
       "      <th>5</th>\n",
       "      <th>6</th>\n",
       "      <th>7</th>\n",
       "      <th>8</th>\n",
       "      <th>9</th>\n",
       "    </tr>\n",
       "  </thead>\n",
       "  <tbody>\n",
       "    <tr>\n",
       "      <th>0</th>\n",
       "      <td>89.897959</td>\n",
       "      <td>0.204082</td>\n",
       "      <td>1.530612</td>\n",
       "      <td>0.000000</td>\n",
       "      <td>1.326531</td>\n",
       "      <td>1.020408</td>\n",
       "      <td>3.877551</td>\n",
       "      <td>1.326531</td>\n",
       "      <td>0.204082</td>\n",
       "      <td>0.612245</td>\n",
       "    </tr>\n",
       "    <tr>\n",
       "      <th>1</th>\n",
       "      <td>0.176211</td>\n",
       "      <td>94.625551</td>\n",
       "      <td>1.321586</td>\n",
       "      <td>1.233480</td>\n",
       "      <td>0.264317</td>\n",
       "      <td>0.176211</td>\n",
       "      <td>0.352423</td>\n",
       "      <td>0.088106</td>\n",
       "      <td>1.762115</td>\n",
       "      <td>0.000000</td>\n",
       "    </tr>\n",
       "    <tr>\n",
       "      <th>2</th>\n",
       "      <td>1.162791</td>\n",
       "      <td>1.647287</td>\n",
       "      <td>85.658915</td>\n",
       "      <td>2.228682</td>\n",
       "      <td>1.356589</td>\n",
       "      <td>0.387597</td>\n",
       "      <td>3.294574</td>\n",
       "      <td>0.872093</td>\n",
       "      <td>3.100775</td>\n",
       "      <td>0.290698</td>\n",
       "    </tr>\n",
       "    <tr>\n",
       "      <th>3</th>\n",
       "      <td>0.000000</td>\n",
       "      <td>0.792079</td>\n",
       "      <td>8.514851</td>\n",
       "      <td>77.821782</td>\n",
       "      <td>0.693069</td>\n",
       "      <td>3.663366</td>\n",
       "      <td>2.376238</td>\n",
       "      <td>1.683168</td>\n",
       "      <td>3.465347</td>\n",
       "      <td>0.990099</td>\n",
       "    </tr>\n",
       "    <tr>\n",
       "      <th>4</th>\n",
       "      <td>0.814664</td>\n",
       "      <td>1.120163</td>\n",
       "      <td>1.120163</td>\n",
       "      <td>0.407332</td>\n",
       "      <td>82.179226</td>\n",
       "      <td>1.731161</td>\n",
       "      <td>0.610998</td>\n",
       "      <td>1.018330</td>\n",
       "      <td>0.407332</td>\n",
       "      <td>10.590631</td>\n",
       "    </tr>\n",
       "    <tr>\n",
       "      <th>5</th>\n",
       "      <td>2.690583</td>\n",
       "      <td>0.336323</td>\n",
       "      <td>1.233184</td>\n",
       "      <td>3.139013</td>\n",
       "      <td>1.793722</td>\n",
       "      <td>74.887892</td>\n",
       "      <td>4.708520</td>\n",
       "      <td>0.896861</td>\n",
       "      <td>6.726457</td>\n",
       "      <td>3.587444</td>\n",
       "    </tr>\n",
       "    <tr>\n",
       "      <th>6</th>\n",
       "      <td>3.131524</td>\n",
       "      <td>0.208768</td>\n",
       "      <td>3.027140</td>\n",
       "      <td>0.626305</td>\n",
       "      <td>0.521921</td>\n",
       "      <td>5.323591</td>\n",
       "      <td>84.237996</td>\n",
       "      <td>2.400835</td>\n",
       "      <td>0.313152</td>\n",
       "      <td>0.208768</td>\n",
       "    </tr>\n",
       "    <tr>\n",
       "      <th>7</th>\n",
       "      <td>1.167315</td>\n",
       "      <td>3.015564</td>\n",
       "      <td>1.361868</td>\n",
       "      <td>0.875486</td>\n",
       "      <td>2.918288</td>\n",
       "      <td>0.000000</td>\n",
       "      <td>0.583658</td>\n",
       "      <td>84.241245</td>\n",
       "      <td>0.000000</td>\n",
       "      <td>5.836576</td>\n",
       "    </tr>\n",
       "    <tr>\n",
       "      <th>8</th>\n",
       "      <td>1.129363</td>\n",
       "      <td>1.848049</td>\n",
       "      <td>0.821355</td>\n",
       "      <td>6.262834</td>\n",
       "      <td>0.513347</td>\n",
       "      <td>7.905544</td>\n",
       "      <td>1.129363</td>\n",
       "      <td>1.334702</td>\n",
       "      <td>76.591376</td>\n",
       "      <td>2.464066</td>\n",
       "    </tr>\n",
       "    <tr>\n",
       "      <th>9</th>\n",
       "      <td>2.081269</td>\n",
       "      <td>1.288404</td>\n",
       "      <td>0.000000</td>\n",
       "      <td>0.991080</td>\n",
       "      <td>5.748266</td>\n",
       "      <td>1.189296</td>\n",
       "      <td>0.000000</td>\n",
       "      <td>3.567889</td>\n",
       "      <td>1.090188</td>\n",
       "      <td>84.043608</td>\n",
       "    </tr>\n",
       "  </tbody>\n",
       "</table>\n",
       "</div>"
      ],
      "text/plain": [
       "           0          1          2          3          4          5  \\\n",
       "0  89.897959   0.204082   1.530612   0.000000   1.326531   1.020408   \n",
       "1   0.176211  94.625551   1.321586   1.233480   0.264317   0.176211   \n",
       "2   1.162791   1.647287  85.658915   2.228682   1.356589   0.387597   \n",
       "3   0.000000   0.792079   8.514851  77.821782   0.693069   3.663366   \n",
       "4   0.814664   1.120163   1.120163   0.407332  82.179226   1.731161   \n",
       "5   2.690583   0.336323   1.233184   3.139013   1.793722  74.887892   \n",
       "6   3.131524   0.208768   3.027140   0.626305   0.521921   5.323591   \n",
       "7   1.167315   3.015564   1.361868   0.875486   2.918288   0.000000   \n",
       "8   1.129363   1.848049   0.821355   6.262834   0.513347   7.905544   \n",
       "9   2.081269   1.288404   0.000000   0.991080   5.748266   1.189296   \n",
       "\n",
       "           6          7          8          9  \n",
       "0   3.877551   1.326531   0.204082   0.612245  \n",
       "1   0.352423   0.088106   1.762115   0.000000  \n",
       "2   3.294574   0.872093   3.100775   0.290698  \n",
       "3   2.376238   1.683168   3.465347   0.990099  \n",
       "4   0.610998   1.018330   0.407332  10.590631  \n",
       "5   4.708520   0.896861   6.726457   3.587444  \n",
       "6  84.237996   2.400835   0.313152   0.208768  \n",
       "7   0.583658  84.241245   0.000000   5.836576  \n",
       "8   1.129363   1.334702  76.591376   2.464066  \n",
       "9   0.000000   3.567889   1.090188  84.043608  "
      ]
     },
     "execution_count": 129,
     "metadata": {},
     "output_type": "execute_result"
    }
   ],
   "source": [
    "def confusion_matrix(Y_classes, Ttest):\n",
    "    class_names = np.unique(Ttest)\n",
    "    table = []\n",
    "    for true_class in class_names:\n",
    "        row = []\n",
    "        for predicted_class in class_names:\n",
    "            row.append(100 * np.mean(Y_classes[Ttest == true_class] == predicted_class))\n",
    "        table.append(row)\n",
    "    df = pandas.DataFrame(table, index=class_names, columns=class_names)\n",
    "    \n",
    "    return df\n",
    "\n",
    "\n",
    "\n",
    "Y_classes, Y_probs = nnet.use(Xtest)\n",
    "confusion_matrix(Y_classes, Ttest)\n"
   ]
  },
  {
   "cell_type": "markdown",
   "metadata": {},
   "source": [
    "## Grading and Check-In\n",
    "\n",
    "You will receive 50 points for correct code, and 50 points for other results and your discussions.  As before, you can test your code against the grading script yourself by downloading [A4grader.zip](https://www.cs.colostate.edu/~cs445/notebooks/A4grader.zip) and extracting `A4grader.py` parallel to this notebook.  We recommend keeping this notebook and the grader script in a dedicated folder with *just those two files.* Run the code in the in the following cell to see an example grading run.  Submit assignments **through Canvas** following the pattern of the previous assignments. *Do not send your file to the instructor/TA via email or any other medium!*"
   ]
  },
  {
   "cell_type": "code",
   "execution_count": 133,
   "metadata": {},
   "outputs": [
    {
     "name": "stdout",
     "output_type": "stream",
     "text": [
      "\n",
      "======================= Code Execution =======================\n",
      "\n",
      "Extracting python code from notebook named 'Avery-A4.2 Classification of Hand-Drawn Digits.ipynb' and storing in notebookcode.py\n",
      "Removing all statements that are not function or class defs or import statements.\n",
      "\n",
      "Testing\n",
      "\n",
      "    nn_reg = NeuralNetwork(1, [5], 2)\n",
      "    nn_class = NeuralNetworkClassifier(1, [5], 5)\n",
      "\n",
      "    nn_reg.forward_pass.__func__ == nn_class.forward_pass.__func__\n",
      "\n",
      "\n",
      "---  0/5 points. Function NeuralNetwork.forward_pass should not be overridden in NeuralNetworkClassifier.\n",
      "\n",
      "Testing\n",
      "\n",
      "    nn_reg = NeuralNetwork(1, [5], 2)\n",
      "    nn_class = NeuralNetworkClassifier(1, [5], 5)\n",
      "\n",
      "    nn_reg.train.__func__ != nn_class.train.__func__\n",
      "\n",
      "\n",
      "--- 5/5 points.  Function NeuralNetwork.train is correctly overridden in NeuralNetworkClassifier.\n",
      "\n",
      "Testing\n",
      "\n",
      "    nn_reg = NeuralNetwork(1, [5], 2)\n",
      "    nn_class = NeuralNetworkClassifier(1, [5], 5)\n",
      "\n",
      "    nn_reg.use.__func__ != nn_class.use.__func__\n",
      "\n",
      "\n",
      "--- 5/5 points.  Function NeuralNetwork.use is correctly overridden in NeuralNetworkClassifier.\n",
      "\n",
      "Testing\n",
      "\n",
      "    nn_class = NeuralNetworkClassifier(1, [5], 5)\n",
      "    result = nn_class.makeIndicatorVars(np.arange(5).reshape(-1, 1))\n",
      "\n",
      "\n",
      "\n",
      "--- 5/5 points.  makeIndicatorVars correctly returned all 1s on diagonal.\n",
      "\n",
      "Testing\n",
      "\n",
      "    nn_class = NeuralNetworkClassifier(1, [5], 5)\n",
      "    result = nn_class.softmax(np.array([[-5.5, 5.5]]))\n",
      "\n",
      "\n",
      "\n",
      "--- 10/10 points.  softmax returned correct answer.\n",
      "\n",
      "Testing\n",
      "\n",
      "    X = np.arange(20).reshape(20, 1)\n",
      "    X = np.hstack((X, X[::-1, :]))\n",
      "    T = np.array(['ends', 'mid'])[(np.abs(X[:, 0:1] - X[:, 1:2]) < 6).astype(int)]\n",
      "\n",
      "    np.random.seed(42)\n",
      "    \n",
      "    nnet = NeuralNetworkClassifier(X.shape[1], [10, 10], len(np.unique(T)), activation_function='relu')\n",
      "    nnet.train(X, T, 500, 0.001, method='adam', verbose=False)\n",
      "\n",
      "    Y_classes, Y_probs = nnet.use(X)\n",
      "\n",
      "    percent_correct = 100 * np.mean(Y_classes == T)\n",
      "\n",
      "Adam: Epoch 50 Error=0.52799\n",
      "Adam: Epoch 100 Error=0.55974\n",
      "Adam: Epoch 150 Error=0.54919\n",
      "Adam: Epoch 200 Error=0.39537\n",
      "Adam: Epoch 250 Error=0.15605\n",
      "Adam: Epoch 300 Error=0.02045\n",
      "Adam: Epoch 350 Error=0.00102\n",
      "Adam: Epoch 400 Error=0.00002\n",
      "Adam: Epoch 450 Error=0.00000\n",
      "Adam: Epoch 500 Error=0.00000\n",
      "\n",
      "--- 10/10 points. Correctly returned 100.0.\n",
      "\n",
      "Testing\n",
      "\n",
      "    cm = confusion_matrix(Y_classes, T)\n",
      "\n",
      "\n",
      "--- 10/10 points. Correctly returned DataFrame:\n",
      "       ends    mid\n",
      "ends  100.0    0.0\n",
      "mid     0.0  100.0\n",
      "\n",
      "======================================================================\n",
      "A4 Execution Grade is 45 / 50\n",
      "======================================================================\n",
      "\n",
      " __ / 50 Based on other testing and the results you obtain and your discussions.\n",
      "\n",
      "======================================================================\n",
      "A4 FINAL GRADE is  _  / 100\n",
      "======================================================================\n",
      "\n",
      "Extra Credit:\n",
      "\n",
      "Earn 5 extra credit points on this assignment by doing the following steps.\n",
      "\n",
      "1. Combine the train, validate, and test partitions loaded from the MNIST data file into \n",
      "   two matrices, X and T.\n",
      "\n",
      "2. Using adam, relu and just one value of learning_rate and n_epochs, compare several \n",
      "   hidden layer architectures. Do so by applying our generate_k_fold_cross_validation_sets\n",
      "   function as defined in Lecture Notes 12 which forms stratified partitioning, for use\n",
      "   in classification problems, to your X and T matrices using n_fold of 3.\n",
      "\n",
      "3. Show results and discuss which architectures you find works the best, and how you\n",
      "    determined this.\n"
     ]
    }
   ],
   "source": [
    "%run -i A4grader.py"
   ]
  },
  {
   "cell_type": "markdown",
   "metadata": {},
   "source": [
    "## Extra Credit\n",
    "Earn 5 extra credit point on this assignment by doing the following.\n",
    "\n",
    "1. Combine the train, validate, and test partitions loaded from the MNIST data file into two matrices, `X` and `T`. \n",
    "2. Using `adam` , `relu` and just one value of `learning_rate` and `n_epochs`, compare several hidden layer architectures. Do so by applying our `generate_k_fold_cross_validation_sets` function as defined in Lecture Notes 10 which forms stratified partitioning, for use in classification problems, to your `X` and `T` matrices using `n_fold` of 3.\n",
    "3. Show results and discuss which architectures you find works the best, and how you determined this."
   ]
  },
  {
   "cell_type": "code",
   "execution_count": null,
   "metadata": {},
   "outputs": [],
   "source": []
  }
 ],
 "metadata": {
  "kernelspec": {
   "display_name": "Python 3",
   "language": "python",
   "name": "python3"
  },
  "language_info": {
   "codemirror_mode": {
    "name": "ipython",
    "version": 3
   },
   "file_extension": ".py",
   "mimetype": "text/x-python",
   "name": "python",
   "nbconvert_exporter": "python",
   "pygments_lexer": "ipython3",
   "version": "3.6.8"
  },
  "toc": {
   "base_numbering": 1,
   "nav_menu": {},
   "number_sections": true,
   "sideBar": true,
   "skip_h1_title": false,
   "title_cell": "Table of Contents",
   "title_sidebar": "Contents",
   "toc_cell": false,
   "toc_position": {},
   "toc_section_display": true,
   "toc_window_display": true
  }
 },
 "nbformat": 4,
 "nbformat_minor": 4
}
